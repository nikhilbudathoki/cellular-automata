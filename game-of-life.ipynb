{
 "cells": [
  {
   "cell_type": "code",
   "execution_count": 1,
   "metadata": {},
   "outputs": [],
   "source": [
    "import png\n",
    "import imageio\n",
    "import numpy as np\n",
    "from pathlib import Path\n",
    "import matplotlib.pyplot as plt\n",
    "import matplotlib.image as mpimg\n",
    "\n",
    "# File name/extension constants\n",
    "image_counter, animation_counter  = 1, 1\n",
    "image_extension, result_extension  = '.png', '.gif'\n",
    "\n",
    "# image_dimentsions\n",
    "x_dim, y_dim = 256, 256"
   ]
  },
  {
   "cell_type": "code",
   "execution_count": 2,
   "metadata": {},
   "outputs": [],
   "source": [
    "def generate_initial_arr(x_dim, y_dim):\n",
    "    arr = []\n",
    "    for x in range(x_dim):\n",
    "        x_arr = []\n",
    "        for y in range(y_dim):\n",
    "            x_arr.append(x)\n",
    "        arr.append(x_arr)    \n",
    "    return arr"
   ]
  },
  {
   "cell_type": "code",
   "execution_count": 3,
   "metadata": {},
   "outputs": [
    {
     "data": {
      "image/png": "[encoded data removed]",
      "text/plain": [
       "<Figure size 432x288 with 1 Axes>"
      ]
     },
     "metadata": {
      "needs_background": "light"
     },
     "output_type": "display_data"
    }
   ],
   "source": [
    "image = generate_initial_arr(x_dim, y_dim)\n",
    "arr = np.asarray(image)\n",
    "plt.imshow(arr, cmap='gray', vmin=0, vmax=y_dim-1)\n",
    "plt.show()"
   ]
  },
  {
   "cell_type": "code",
   "execution_count": 4,
   "metadata": {},
   "outputs": [],
   "source": [
    "def generate_gradient(initial_img):\n",
    "    image = initial_img.copy()\n",
    "    image_list = []\n",
    "    y_dim = len(image)\n",
    "    x_dim = len(image[0])\n",
    "\n",
    "    for y in range(y_dim):\n",
    "        y_place = (y_dim - 1) - y\n",
    "        for x in range(x_dim):\n",
    "            image[y_place][x] = y\n",
    "        img_arr = np.array(image).astype(np.uint8)\n",
    "        image_list.append(img_arr)\n",
    "    return image_list"
   ]
  },
  {
   "cell_type": "code",
   "execution_count": null,
   "metadata": {},
   "outputs": [],
   "source": [
    "gradient_images = generate_gradient(image)\n",
    "imageio.mimwrite('results/' + str(animation_counter) + result_extension, image_list, fps=30)"
   ]
  },
  {
   "cell_type": "code",
   "execution_count": null,
   "metadata": {},
   "outputs": [],
   "source": []
  }
 ],
 "metadata": {
  "kernelspec": {
   "display_name": "Python 3",
   "language": "python",
   "name": "python3"
  },
  "language_info": {
   "codemirror_mode": {
    "name": "ipython",
    "version": 3
   },
   "file_extension": ".py",
   "mimetype": "text/x-python",
   "name": "python",
   "nbconvert_exporter": "python",
   "pygments_lexer": "ipython3",
   "version": "3.8.9"
  }
 },
 "nbformat": 4,
 "nbformat_minor": 4
}
